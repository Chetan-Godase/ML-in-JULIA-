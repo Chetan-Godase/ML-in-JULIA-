{
 "cells": [
  {
   "cell_type": "code",
   "execution_count": 1,
   "metadata": {},
   "outputs": [],
   "source": [
    "using Distances, Statistics\n",
    "using MultivariateStats\n",
    "using PyPlot\n",
    "using WordTokenizers\n",
    "using TextAnalysis\n",
    "using DelimitedFiles"
   ]
  },
  {
   "cell_type": "code",
   "execution_count": 2,
   "metadata": {},
   "outputs": [
    {
     "data": {
      "text/plain": [
       "load_file (generic function with 1 method)"
      ]
     },
     "execution_count": 2,
     "metadata": {},
     "output_type": "execute_result"
    }
   ],
   "source": [
    "function load_file(embedding_file)\n",
    "    local LL, indexed_words, index\n",
    "    indexed_words = Vector{String}()\n",
    "    LL = Vector{Vector{Float32}}()\n",
    "    open(embedding_file) do f\n",
    "        index = 1\n",
    "        for line in eachline(f)\n",
    "            xs = split(line)\n",
    "            word = xs[1]\n",
    "            push!(indexed_words, word)\n",
    "            push!(LL, parse.(Float32, xs[2:end]))\n",
    "            index += 1\n",
    "        end\n",
    "    end\n",
    "    return reduce(hcat, LL), indexed_words\n",
    "end"
   ]
  },
  {
   "cell_type": "code",
   "execution_count": 4,
   "metadata": {},
   "outputs": [
    {
     "name": "stdout",
     "output_type": "stream",
     "text": [
      "Downloading the word vocabulary adn peseenting as  50 features. and its size is = 400000\n"
     ]
    }
   ],
   "source": [
    "wrd_embed, libb = load_file(\"C:/Users/Chetan/Desktop/glove.6B.50d.txt\")\n",
    "vec_size, libb_size = size(wrd_embed)\n",
    "println(\"Downloading the word vocabulary adn peseenting as  $vec_size features. and its size is = $libb_size\")"
   ]
  },
  {
   "cell_type": "code",
   "execution_count": 6,
   "metadata": {},
   "outputs": [
    {
     "data": {
      "text/plain": [
       "6243"
      ]
     },
     "execution_count": 6,
     "metadata": {},
     "output_type": "execute_result"
    }
   ],
   "source": [
    "vec_idx(s) = findfirst(x -> x==s, libb)\n",
    "vec_idx(\"chocolate\")"
   ]
  },
  {
   "cell_type": "code",
   "execution_count": 8,
   "metadata": {},
   "outputs": [
    {
     "data": {
      "text/plain": [
       "50-element Array{Float32,1}:\n",
       "  0.089859\n",
       "  0.5691\n",
       " -0.91323\n",
       "  0.34064\n",
       "  0.7763\n",
       "  1.3755\n",
       " -0.6681\n",
       " -0.322\n",
       " -0.061527\n",
       "  0.81761\n",
       "  0.1773\n",
       " -0.24408\n",
       "  1.1812\n",
       "  ⋮\n",
       "  1.5194\n",
       " -0.54659\n",
       "  0.93013\n",
       "  0.17938\n",
       " -0.17086\n",
       " -0.42733\n",
       "  0.75439\n",
       "  1.4537\n",
       " -0.098187\n",
       " -0.59428\n",
       " -0.19965\n",
       " -0.49592"
      ]
     },
     "execution_count": 8,
     "metadata": {},
     "output_type": "execute_result"
    }
   ],
   "source": [
    "function vec(x) \n",
    "    if vec_idx(x)!=nothing\n",
    "        wrd_embed[:, vec_idx(x)]\n",
    "    end    \n",
    "end\n",
    "vec(\"chocolate\")"
   ]
  },
  {
   "cell_type": "code",
   "execution_count": 10,
   "metadata": {},
   "outputs": [
    {
     "data": {
      "text/plain": [
       "cos_rever_dis (generic function with 1 method)"
      ]
     },
     "execution_count": 10,
     "metadata": {},
     "output_type": "execute_result"
    }
   ],
   "source": [
    "cos_rever_dis(x,y)=1-cosine_dist(x, y)"
   ]
  },
  {
   "cell_type": "code",
   "execution_count": 11,
   "metadata": {},
   "outputs": [
    {
     "data": {
      "text/plain": [
       "true"
      ]
     },
     "execution_count": 11,
     "metadata": {},
     "output_type": "execute_result"
    }
   ],
   "source": [
    "cos_rever_dis(vec(\"wine\"), vec(\"grapes\")) > cosine(vec(\"chocolate\"),vec(\"octopus\"))"
   ]
  },
  {
   "cell_type": "code",
   "execution_count": 14,
   "metadata": {},
   "outputs": [
    {
     "data": {
      "text/plain": [
       "near (generic function with 2 methods)"
      ]
     },
     "execution_count": 14,
     "metadata": {},
     "output_type": "execute_result"
    }
   ],
   "source": [
    "function near(q, k=5)\n",
    "    list=[(z,cos_rever_dis(wrd_embed'[z,:], q)) for z in 1:size(wrd_embed)[2]]\n",
    "    topn_idx=sort(list, by = z -> z[2], rev=true)[1:k]\n",
    "    return [libb[a] for (a,_) in topn_idx]\n",
    "end"
   ]
  },
  {
   "cell_type": "code",
   "execution_count": 15,
   "metadata": {},
   "outputs": [
    {
     "data": {
      "text/plain": [
       "5-element Array{String,1}:\n",
       " \"chocolate\"\n",
       " \"cream\"\n",
       " \"cake\"\n",
       " \"caramel\"\n",
       " \"butter\""
      ]
     },
     "execution_count": 15,
     "metadata": {},
     "output_type": "execute_result"
    }
   ],
   "source": [
    "near(vec(\"chocolate\")) #for 5 similar words to the input"
   ]
  },
  {
   "cell_type": "code",
   "execution_count": 16,
   "metadata": {},
   "outputs": [
    {
     "data": {
      "text/plain": [
       "5-element Array{String,1}:\n",
       " \"tree\"\n",
       " \"trees\"\n",
       " \"pine\"\n",
       " \"flower\"\n",
       " \"oak\""
      ]
     },
     "execution_count": 16,
     "metadata": {},
     "output_type": "execute_result"
    }
   ],
   "source": [
    "near(vec(\"tree\"))"
   ]
  },
  {
   "cell_type": "code",
   "execution_count": 19,
   "metadata": {},
   "outputs": [
    {
     "data": {
      "text/plain": [
       "5-element Array{String,1}:\n",
       " \"tuesday\"\n",
       " \"thursday\"\n",
       " \"monday\"\n",
       " \"wednesday\"\n",
       " \"friday\""
      ]
     },
     "execution_count": 19,
     "metadata": {},
     "output_type": "execute_result"
    }
   ],
   "source": [
    "week_cck = vec(\"week\") - vec(\"weekend\")\n",
    "near(week_cck + vec(\"monday\"))"
   ]
  },
  {
   "cell_type": "code",
   "execution_count": 20,
   "metadata": {},
   "outputs": [
    {
     "data": {
      "text/plain": [
       "5-element Array{String,1}:\n",
       " \"king\"\n",
       " \"queen\"\n",
       " \"daughter\"\n",
       " \"prince\"\n",
       " \"throne\""
      ]
     },
     "execution_count": 20,
     "metadata": {},
     "output_type": "execute_result"
    }
   ],
   "source": [
    "queen_check = vec(\"king\") - vec(\"man\")\n",
    "near(queen_check + vec(\"woman\"))#correct answer is predicted to closest apporoximation ie. 2nd word of the array list creaeted"
   ]
  },
  {
   "cell_type": "code",
   "execution_count": null,
   "metadata": {},
   "outputs": [],
   "source": []
  }
 ],
 "metadata": {
  "kernelspec": {
   "display_name": "Julia 1.5.3",
   "language": "julia",
   "name": "julia-1.5"
  },
  "language_info": {
   "file_extension": ".jl",
   "mimetype": "application/julia",
   "name": "julia",
   "version": "1.5.3"
  }
 },
 "nbformat": 4,
 "nbformat_minor": 4
}
